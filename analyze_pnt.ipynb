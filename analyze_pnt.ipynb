{
 "cells": [
  {
   "cell_type": "code",
   "execution_count": 562,
   "metadata": {},
   "outputs": [
    {
     "name": "stdout",
     "output_type": "stream",
     "text": [
      "e:\\OneDrive\\Dokumente\\Uni_kram\\Masterarbeit\\pyquil_program\n"
     ]
    }
   ],
   "source": [
    "import matplotlib.pyplot as plt\n",
    "from matplotlib import pyplot as plt\n",
    "import os\n",
    "import sys\n",
    "import numpy as np\n",
    "\n",
    "home_folder = os.getcwd()\n",
    "print(home_folder)\n",
    "while not home_folder.endswith(\"pyquil_program\"):\n",
    "    home_folder = os.path.dirname(home_folder)\n",
    "sys.path.append(os.path.join(home_folder, \"pauli_lindblad_per\"))\n",
    "import pickle"
   ]
  },
  {
   "cell_type": "code",
   "execution_count": 563,
   "metadata": {},
   "outputs": [],
   "source": [
    "def decipher_name(namebase):\n",
    "    i = 0\n",
    "    dic = dict()\n",
    "    split_namebase = namebase.split(\"_\")\n",
    "    #parser.add_argument('--plusone', '-p', help='Takes Neighboring qubits into account', default=False, action='store_true')\n",
    "    #i, dic[\"tomography_connections\"] = i+1, (split_namebase[i] == \"True\")\n",
    "    #parser.add_argument('--sum', '-s', help='Same as -p and turns sumation on over neighboring qubits', default=False, action='store_true')\n",
    "    i, dic[\"sum_over_lambda\"] = i+1, (split_namebase[i] == \"True\")\n",
    "    if dic[\"sum_over_lambda\"]:\n",
    "        dic[\"tomography_connections\"] = True\n",
    "    #parser.add_argument('--pntsamples', type=int, help='How many samples in PNT? Default: 16', default=16)\n",
    "    i, dic[\"pntsamples\"] = i+1, int(split_namebase[i])\n",
    "    #parser.add_argument('--pntsinglesamples', type=int, help='How many single samples in PNT? Default: 100', default=100)\n",
    "    i, dic[\"pntsinglesamples\"] = i+1, int(split_namebase[i])\n",
    "    #parser.add_argument('--persamples', type=int, help='How many samples in PER? Default: 100', default=100)\n",
    "    i, dic[\"persamples\"] = i+1, int(split_namebase[i])\n",
    "    #parser.add_argument('--shots', type=int, help='How many shots? Default: 1000', default=1000)\n",
    "    i, dic[\"shots\"] = i+1, int(split_namebase[i])\n",
    "    #parser.add_argument('--backend', type=str, help='Which backend to use? Default: FakeVigoV2', default=\"FakeVigoV2\")\n",
    "    #import qiskit.providers.fake_provider as fake_provider\n",
    "    #backend = fake_provider.FakeVigoV2()\n",
    "    #if split_namebase[i] != \"FakeVigoV2\":\n",
    "    #    method = getattr(fake_provider, split_namebase[6])\n",
    "    #    backend = method()\n",
    "    dic[\"backend\"] = split_namebase[i]\n",
    "    i+=1\n",
    "\n",
    "    #parser.add_argument('--cross', '-c', help='Simulates Cross Talk Noise', default=False, action='store_true')\n",
    "    i, dic[\"do_cross_talk_noise\"] = i+1, (split_namebase[i] == \"True\")\n",
    "    #parser.add_argument('--allqubits', '-a', help='runs over all qubits in the tomography', default=False, action='store_true')\n",
    "    #i, dic[\"allqubits\"] = i+1, (split_namebase[i] == \"True\")\n",
    "    #parser.add_argument('--onlyTomography', help='Only does the tomography and then ends the program', default=False, action='store_true')\n",
    "    i, dic[\"onlyTomography\"] = i+1, (split_namebase[i] == \"True\")\n",
    "\n",
    "    #parser.add_argument('--setqubits', type=int, nargs='+', help='Which qubits to use?: Default: 0123 and transpile')\n",
    "    import ast\n",
    "    i, dic[\"qubits\"]= i+1, ast.literal_eval(split_namebase[i])\n",
    "    dic[\"num_qubits\"] = 5#len(dic[\"qubits\"])\n",
    "    #if split_namebase[7] == '[0,1,2,3]' and split_namebase[8] == 'and' and split_namebase[9] == 'transpile':\n",
    "    return dic"
   ]
  },
  {
   "cell_type": "code",
   "execution_count": 564,
   "metadata": {},
   "outputs": [
    {
     "name": "stdout",
     "output_type": "stream",
     "text": [
      "False_16_100_100_1024_Line5_False_True_{0, 1, 2, 3}_[2, 4, 8, 16]\n"
     ]
    }
   ],
   "source": [
    "# Determine Folders\n",
    "main_folder_path = \"server_run_collection\".split('/')\n",
    "main_folder = \"\"\n",
    "for segment in main_folder_path:\n",
    "    main_folder = os.path.join(main_folder, segment)\n",
    "folders = [f for f in os.listdir(os.path.join(home_folder, main_folder)) if os.path.isdir(os.path.join(os.path.join(home_folder, main_folder), f))]\n",
    "filtered_folders = [f for f in folders if not decipher_name(f)[\"do_cross_talk_noise\"] \n",
    "                    and decipher_name(f)[\"pntsamples\"]== 16]\n",
    "#filtered_folders = folders\n",
    "for folder in filtered_folders:\n",
    "    print(folder)"
   ]
  },
  {
   "cell_type": "code",
   "execution_count": 565,
   "metadata": {},
   "outputs": [
    {
     "name": "stdout",
     "output_type": "stream",
     "text": [
      "e:\\OneDrive\\Dokumente\\Uni_kram\\Masterarbeit\\pyquil_program\\server_run_collection\\False_16_100_100_1024_Line5_False_True_{0, 1, 2, 3}_[2, 4, 8, 16]\\coeffs.pickle\n"
     ]
    }
   ],
   "source": [
    "# Load Data\n",
    "coeffs_datas = []\n",
    "infidelities_datas = []\n",
    "for folder in filtered_folders:\n",
    "    print(os.path.join(os.path.join(os.path.join(home_folder, main_folder),folder), \"coeffs.pickle\"))\n",
    "    with open(os.path.join(os.path.join(os.path.join(home_folder, main_folder),folder), \"coeffs.pickle\"), \"rb\") as f:\n",
    "        coeffs = pickle.load(f)\n",
    "    coeffs_datas.append(coeffs)\n",
    "    with open(os.path.join(os.path.join(os.path.join(home_folder, main_folder),folder), \"infidelities.pickle\"), \"rb\") as f:\n",
    "        infidelities = pickle.load(f)\n",
    "        \"\"\" \n",
    "        print(infidelities)\n",
    "        inf2 = []\n",
    "    for inf in infidelities:\n",
    "        tempdic = {}\n",
    "        for temp2 in inf:\n",
    "            for i in temp2:\n",
    "                print(i)\n",
    "                tempdic[i] = temp2[i]\n",
    "        inf2.append(tempdic)\n",
    "    print(coeffs)\n",
    "    print(inf2)\n",
    "    infidelities = inf2\n",
    "    with open(os.path.join(os.path.join(os.path.join(home_folder, main_folder),folder), \"infidelities.pickle\"), \"wb\") as f:\n",
    "        pickle.dump(infidelities, f) \"\"\"\n",
    "    infidelities_datas.append(infidelities)"
   ]
  },
  {
   "cell_type": "code",
   "execution_count": 566,
   "metadata": {},
   "outputs": [],
   "source": [
    "with open(os.path.join(os.path.join(os.path.join(home_folder, main_folder),filtered_folders[0]), \"noise_model.pickle\"), \"rb\") as f:\n",
    "    (noise_model, twoqubit_error_template, singlequbit_error_template) = pickle.load(f)\n",
    "from TrotterExample import get_noise_model, make_initial_Circuit\n",
    "#(noise_model, twoqubit_error_template, singlequbit_error_template) = get_noise_model()\n",
    "dic = decipher_name(filtered_folders[0])\n",
    "backend = dic[\"backend\"]\n",
    "circuit = make_initial_Circuit(list(dic[\"qubits\"]), dic[\"num_qubits\"], backend, 2)[0]"
   ]
  },
  {
   "cell_type": "code",
   "execution_count": 567,
   "metadata": {},
   "outputs": [],
   "source": [
    "def get_index(qc, inst, i=None):\n",
    "    if inst._InstructionMeta__name == 'Declare':\n",
    "        return tuple([])\n",
    "    if hasattr(inst, \"qubits\"):\n",
    "        return tuple([q.index for q in inst.qubits])\n",
    "    elif hasattr(inst, \"qubit\"):\n",
    "        return tuple([inst.qubit.index])\n",
    "    else:\n",
    "        raise Exception(inst + \" has no qubits\")"
   ]
  },
  {
   "cell_type": "code",
   "execution_count": 568,
   "metadata": {},
   "outputs": [],
   "source": [
    "from TrotterExample import circuit_to_layers\n",
    "from primitives.circuit import PyquilCircuit\n",
    "\n",
    "layers = circuit_to_layers(PyquilCircuit(circuit))"
   ]
  },
  {
   "cell_type": "code",
   "execution_count": 569,
   "metadata": {},
   "outputs": [],
   "source": [
    "from pyquil.paulis import PauliTerm\n",
    "def Pauli(string):\n",
    "    return PauliTerm.from_list([(p,i) for i, p in enumerate(string)])\n",
    "def to_label(pauli, pauli_length = 5):\n",
    "    return pauli.pauli_string(range(pauli_length))\n",
    "def get_error_for_circuit(circuit, twoqubit_error_template, singlequbit_error_template, backend):\n",
    "    def mul_Pauli(pauli1, pauli2):\n",
    "        return pauli1 * pauli2\n",
    "\n",
    "    num_qubits = 5\n",
    "    identity_string = 'I'*num_qubits\n",
    "    error_state = {Pauli(identity_string): 1}\n",
    "    for inst in circuit:\n",
    "        if inst._InstructionMeta__name == 'Declare':\n",
    "            continue\n",
    "        temp_error_state = {}\n",
    "        indexes = get_index(circuit, inst)\n",
    "        if len(indexes) == 1:\n",
    "            index = indexes[0]\n",
    "            for (op, p) in singlequbit_error_template:\n",
    "                op = Pauli(\"\".join((identity_string[:index] + to_label(op, pauli_length=1)+ identity_string[index+1:])))\n",
    "                for og_op in error_state:\n",
    "                    og_p = error_state[og_op]\n",
    "                    new_op = mul_Pauli(op, og_op)\n",
    "                    temp_error_state[new_op] = temp_error_state.get(new_op, 0) + p*og_p\n",
    "        elif len(indexes) == 2:\n",
    "            #print(inst)\n",
    "            for (op, p) in twoqubit_error_template:\n",
    "                temp_string = (identity_string[:indexes[0]] + \"\".join((to_label(op, pauli_length=2)))[0]+ identity_string[indexes[0]+1:])\n",
    "                op = Pauli(\"\".join((temp_string[:indexes[1]] + \"\".join((to_label(op, pauli_length = 2)))[1]+ temp_string[indexes[1]+1:])))\n",
    "                for og_op in error_state:\n",
    "                    og_p = error_state[og_op]\n",
    "                    new_op = mul_Pauli(op, og_op)\n",
    "                    temp_error_state[new_op] = temp_error_state.get(new_op, 0) + p*og_p\n",
    "        else:\n",
    "            if inst.operation.name == 'barrier':\n",
    "                continue\n",
    "            raise Exception(\"Too many qubits\")\n",
    "        error_state = temp_error_state\n",
    "    return [(op, error_state[op]) for op in error_state]"
   ]
  },
  {
   "cell_type": "code",
   "execution_count": 570,
   "metadata": {},
   "outputs": [],
   "source": [
    "def model_terms(layer, *list):\n",
    "    return layer._model_terms(list)"
   ]
  },
  {
   "cell_type": "code",
   "execution_count": 571,
   "metadata": {},
   "outputs": [],
   "source": [
    "def splice_string(string, indexes):\n",
    "    for index in sorted(indexes):\n",
    "        index -= sorted(indexes).index(index)\n",
    "        string = string[:index]+string[index+1:]\n",
    "    return string"
   ]
  },
  {
   "cell_type": "code",
   "execution_count": 572,
   "metadata": {},
   "outputs": [],
   "source": [
    "def pauli_basis(length):\n",
    "    from itertools import product\n",
    "    operators = \"IXYZ\"\n",
    "\n",
    "    ret = [Pauli(\"\".join(i)) for i in product(*[operators]*length)]\n",
    "    return ret\n"
   ]
  },
  {
   "cell_type": "code",
   "execution_count": 573,
   "metadata": {},
   "outputs": [
    {
     "name": "stdout",
     "output_type": "stream",
     "text": [
      "['IIXII', 'IIYII', 'IIZII', 'IIIXI', 'IIIYI', 'IIIZI', 'IIXXI', 'IIXYI', 'IIXZI', 'IIYXI', 'IIYYI', 'IIYZI', 'IIZXI', 'IIZYI', 'IIZZI']\n"
     ]
    }
   ],
   "source": [
    "choosen_qubits = [2,3]\n",
    "layer_number = 0\n",
    "groups = []\n",
    "num_qubits = decipher_name(filtered_folders[0])[\"num_qubits\"]\n",
    "for qubit in choosen_qubits:\n",
    "    groups += [pauli for pauli in pauli_basis(num_qubits) if to_label(pauli)[qubit] != 'I' and (splice_string(to_label(pauli), [qubit]) == 'I'*(num_qubits-1))]\n",
    "groups += [pauli for pauli in pauli_basis(num_qubits) if to_label(pauli)[choosen_qubits[0]] != 'I' and to_label(pauli)[choosen_qubits[1]] != 'I' and (splice_string(to_label(pauli), [choosen_qubits[0], choosen_qubits[1]]) == 'I'*(num_qubits-2))]\n",
    "\n",
    "\n",
    "print([to_label(pauli) for pauli in groups])"
   ]
  },
  {
   "cell_type": "code",
   "execution_count": 574,
   "metadata": {},
   "outputs": [
    {
     "name": "stdout",
     "output_type": "stream",
     "text": [
      "[((1+0j)*Z0*Y1, 0.008802700270751796), ((1+0j)*Y0, 0.0032989083407153896), ((1+0j)*Y0*Y1, 0.01917444731546973), ((1+0j)*Y0*X1, 0.019520575974201874), ((1+0j)*I, 0.9492033680988612)]\n",
      "[((1+0j)*I, 1)]\n"
     ]
    }
   ],
   "source": [
    "from pyquil.paulis import PauliTerm\n",
    "singlequbit_error_template = [(PauliTerm('I', 0), 1)]\n",
    "print(twoqubit_error_template)\n",
    "print(singlequbit_error_template)"
   ]
  },
  {
   "cell_type": "code",
   "execution_count": 575,
   "metadata": {},
   "outputs": [],
   "source": [
    "from qiskit.providers.aer.noise import pauli_error\n",
    "true_error_template = {pauli: error for pauli, error in get_error_for_circuit(layers[layer_number].qc, twoqubit_error_template, singlequbit_error_template, backend)}\n",
    "#true_error = pauli_error(get_error_for_circuit(layers[layer_number].qc, twoqubit_error_template, singlequbit_error_template, backend))"
   ]
  },
  {
   "cell_type": "code",
   "execution_count": 576,
   "metadata": {},
   "outputs": [
    {
     "name": "stdout",
     "output_type": "stream",
     "text": [
      "ZYZYI 7.748753205669375e-05\n",
      "YIZYI 2.9039301344000718e-05\n",
      "YYZYI 0.00016878691257540146\n",
      "YXZYI 0.00017183377941333783\n",
      "IIZYI 0.008355552745362363\n",
      "ZYYII 2.9039301344000718e-05\n",
      "YIYII 1.0882796240441565e-05\n",
      "YYYII 6.32547441776109e-05\n",
      "YXYII 6.4396590896863e-05\n",
      "IIYII 0.0031313349080564733\n",
      "ZYYYI 0.00016878691257540146\n",
      "YIYYI 6.32547441776109e-05\n",
      "YYYYI 0.0003676594298537244\n",
      "YXYYI 0.000374296255584958\n",
      "IIYYI 0.018200449973278035\n",
      "ZYYXI 0.00017183377941333783\n",
      "YIYXI 6.4396590896863e-05\n",
      "YYYXI 0.000374296255584958\n",
      "YXYXI 0.0003810528863645874\n",
      "IIYXI 0.018528996461942126\n",
      "ZYIII 0.008355552745362363\n",
      "YIIII 0.0031313349080564733\n",
      "YYIII 0.018200449973278035\n",
      "YXIII 0.018528996461942126\n",
      "IIIII 0.9009870340102222\n"
     ]
    }
   ],
   "source": [
    "for key in true_error_template:\n",
    "    print(to_label(key), true_error_template[key])"
   ]
  },
  {
   "cell_type": "code",
   "execution_count": 577,
   "metadata": {},
   "outputs": [],
   "source": [
    "# Make error strings\n",
    "twoqubit_error_string = \"\"\n",
    "for temp in twoqubit_error_template:\n",
    "    twoqubit_error_string = twoqubit_error_string + to_label(temp[0], pauli_length=2)+\":\" +\"%.7s\"%temp[1]+\"   \"\n",
    "\n",
    "singlequbit_error_string = \"\"\n",
    "for temp in singlequbit_error_template:\n",
    "    singlequbit_error_string = singlequbit_error_string +\" \"+ to_label(temp[0], pauli_length=2)+\":\" +\"%.7s\"%temp[1]+\"   \""
   ]
  },
  {
   "cell_type": "code",
   "execution_count": 578,
   "metadata": {},
   "outputs": [
    {
     "data": {
      "text/plain": [
       "' # Make / load transfer matrix\\ntransfer_matrix = None\\nfor folder in filtered_folders:\\n    if os.path.exists(os.path.join(os.path.join(os.path.join(home_folder, main_folder),folder), \"transfer_matrixes.pickle\")):\\n        with open(os.path.join(os.path.join(os.path.join(home_folder, main_folder),folder), \"transfer_matrixes.pickle\"), \"rb\") as f:\\n            transfer_matrixes = pickle.load(f)\\n            transfer_matrix = transfer_matrixes[layer_number]\\n\\nif transfer_matrix is None:\\n    for folder in filtered_folders:\\n        if os.path.exists(os.path.join(os.path.join(os.path.join(home_folder, main_folder),folder), \"transfer_matrix.pickle\")):\\n            with open(os.path.join(os.path.join(os.path.join(home_folder, main_folder),folder), \"transfer_matrix.pickle\"), \"rb\") as f:\\n                (transfer_matrix, saved_layer_number) = pickle.load(f)\\n                if saved_layer_number != layer_number:\\n                    transfer_matrix = None\\n                    \\nif transfer_matrix is None:\\n    transfer_matrix = PTM(true_error.to_quantumchannel()).data #Find out more about this\\n    \\nfor folder in filtered_folders:\\n    with open(os.path.join(os.path.join(os.path.join(home_folder, main_folder),folder), \"transfer_matrix.pickle\"), \"wb\") as f:\\n        pickle.dump((transfer_matrix, layer_number), f) '"
      ]
     },
     "execution_count": 578,
     "metadata": {},
     "output_type": "execute_result"
    }
   ],
   "source": [
    "\"\"\" # Make / load transfer matrix\n",
    "transfer_matrix = None\n",
    "for folder in filtered_folders:\n",
    "    if os.path.exists(os.path.join(os.path.join(os.path.join(home_folder, main_folder),folder), \"transfer_matrixes.pickle\")):\n",
    "        with open(os.path.join(os.path.join(os.path.join(home_folder, main_folder),folder), \"transfer_matrixes.pickle\"), \"rb\") as f:\n",
    "            transfer_matrixes = pickle.load(f)\n",
    "            transfer_matrix = transfer_matrixes[layer_number]\n",
    "\n",
    "if transfer_matrix is None:\n",
    "    for folder in filtered_folders:\n",
    "        if os.path.exists(os.path.join(os.path.join(os.path.join(home_folder, main_folder),folder), \"transfer_matrix.pickle\")):\n",
    "            with open(os.path.join(os.path.join(os.path.join(home_folder, main_folder),folder), \"transfer_matrix.pickle\"), \"rb\") as f:\n",
    "                (transfer_matrix, saved_layer_number) = pickle.load(f)\n",
    "                if saved_layer_number != layer_number:\n",
    "                    transfer_matrix = None\n",
    "                    \n",
    "if transfer_matrix is None:\n",
    "    transfer_matrix = PTM(true_error.to_quantumchannel()).data #Find out more about this\n",
    "    \n",
    "for folder in filtered_folders:\n",
    "    with open(os.path.join(os.path.join(os.path.join(home_folder, main_folder),folder), \"transfer_matrix.pickle\"), \"wb\") as f:\n",
    "        pickle.dump((transfer_matrix, layer_number), f) \"\"\""
   ]
  },
  {
   "cell_type": "code",
   "execution_count": 579,
   "metadata": {},
   "outputs": [
    {
     "data": {
      "text/plain": [
       "['IIXII',\n",
       " 'IIYII',\n",
       " 'IIZII',\n",
       " 'IIIXI',\n",
       " 'IIIYI',\n",
       " 'IIIZI',\n",
       " 'IIXXI',\n",
       " 'IIXYI',\n",
       " 'IIXZI',\n",
       " 'IIYXI',\n",
       " 'IIYYI',\n",
       " 'IIYZI',\n",
       " 'IIZXI',\n",
       " 'IIZYI',\n",
       " 'IIZZI']"
      ]
     },
     "execution_count": 579,
     "metadata": {},
     "output_type": "execute_result"
    }
   ],
   "source": [
    "coe = True\n",
    "infidelities_list = []\n",
    "coeffs_list = []\n",
    "labels = []\n",
    "#stack = {pauli: (1-transfer_matrix[i][i]).real for i,pauli in enumerate(pauli_basis(backend.num_qubits))}\n",
    "#stack = [stack[pauli] for pauli in groups]\n",
    "#infidelities_list.append(stack)\n",
    "coeffs_list.append([true_error_template.get(pauli, 0) for pauli in groups])\n",
    "labels.append(\"Real Error\")\n",
    "\n",
    "[to_label(key) for key in groups]"
   ]
  },
  {
   "cell_type": "code",
   "execution_count": 580,
   "metadata": {},
   "outputs": [
    {
     "name": "stdout",
     "output_type": "stream",
     "text": [
      "{IIIXY: 0.0, IIIZZ: 0.0013689784117190938, IXIII: 0.0, ZZIII: 0.0, IIYXI: 0.0, XYIII: 0.0, IIYII: 0.0, IIIXZ: 0.0, IIIXI: 0.0, IXYII: 0.0, IXZII: 0.26894570242029886, IIIYI: 0.0, IIIYY: 0.0, IIIZX: 0.001368978411719091, IYYII: 0.0, IIIIY: 0.0, IYIII: 0.0, XIIII: 0.0, IIXXI: 0.0, IIIYZ: 0.0, IIIXX: 0.0, IIZXI: 0.0, YXIII: 0.0, IXXII: 0.001720032192166133, YYIII: 0.0, IZXII: 0.0, IIYZI: 0.0, IZZII: 0.5901208299014186, XXIII: 0.0, IZYII: 0.0, ZXIII: 0.0, IYXII: 0.0, IIIZY: 0.00136897841171911, ZIIII: 0.0, IIXII: 0.0, IZIII: 0.0, YZIII: 0.0, YIIII: 0.0, IIZZI: 0.0, ZYIII: 0.0, XZIII: 0.0, IIXZI: 0.0, IIXYI: 0.0, IYZII: 0.0, IIIZI: 0.0013689784117190962, IIYYI: 0.0, IIZYI: 0.0, IIIIZ: 0.0, IIZII: 0.0, IIIIX: 0.0, IIIYX: 0.0}\n",
      "2\n"
     ]
    },
    {
     "data": {
      "image/png": "[encoded data removed]",
      "text/plain": [
       "<Figure size 1000x600 with 1 Axes>"
      ]
     },
     "metadata": {},
     "output_type": "display_data"
    }
   ],
   "source": [
    "from pauli_lindblad_per.primitives.pauli import PyQuilPauli\n",
    "failed_folders = 0\n",
    "for array_of_coeffs, array_of_infidelities, folder in zip(coeffs_datas, infidelities_datas, filtered_folders):\n",
    "    coeffs = array_of_coeffs[layer_number]\n",
    "    infidelities = array_of_infidelities[layer_number]\n",
    "    print(coeffs)\n",
    "    coeffs_list.append([coeffs[PyQuilPauli(to_label(key))] for key in groups])\n",
    "    try:\n",
    "        pass#infidelities_list.append([infidelities[key] for key in groups])\n",
    "    except Exception as e:\n",
    "        failed_folders += 1\n",
    "        print(e)\n",
    "        print(\"Failed Folders:\", failed_folders)\n",
    "        continue\n",
    "    cipher = decipher_name(folder)\n",
    "    labels.append(\"Measured\")\n",
    "    #print(\"tomography_connections\", cipher[\"tomography_connections\"])\n",
    "    #print(\"allqubits\", cipher[\"allqubits\"])\n",
    "\n",
    "\n",
    "#print([len(item) for item in infidelities_list])\n",
    "fig, ax = plt.subplots(figsize=(10, 6))\n",
    "x = np.arange(len(groups))  # Label locations\n",
    "width = 0.8 / (len(filtered_folders)+1-failed_folders)  # Width of the bars, adjusted for the number of datasets\n",
    "\n",
    "# Create the bar plot\n",
    "\n",
    "# Add labels, title, and custom x-axis tick labels\n",
    "ax.set_xlabel('Modelterm')\n",
    "ax.set_xticks(x)\n",
    "ax.set_xticklabels([to_label(pauli) for pauli in groups], rotation=45, ha='right')\n",
    "\n",
    "# Plotting bars for each folder's data dynamically\n",
    "maxvalue = 0\n",
    "for i in range(len(filtered_folders)+1-failed_folders):\n",
    "    if coe:\n",
    "        ax.bar(x + (i - (len(filtered_folders)-failed_folders)/2) * width, coeffs_list[i], width, label=labels[i])\n",
    "        maxvalue = max([maxvalue, max(coeffs_list[i])])\n",
    "    else:\n",
    "        ax.bar(x + (i - (len(filtered_folders)-failed_folders)/2) * width, infidelities_list[i], width, label=labels[i])\n",
    "        maxvalue = max([maxvalue, max(infidelities_list[i])])\n",
    "print((len(filtered_folders)+1-failed_folders))\n",
    "# Add legend\n",
    "ax.legend()\n",
    "if maxvalue != 0:\n",
    "    ax.set_ylim(0, maxvalue * 1.2)\n",
    "\n",
    "textstr = 'Noisemodel is Paulierrors of each two-qubits gate.\\nIt is symmetrical for all qubits. Chances are for all:\\n2 qubit gates ' + twoqubit_error_string# + '\\n1 qubit gates ' + singlequbit_error_string\n",
    "\n",
    "# Customize the textbox position and appearance\n",
    "props = dict(boxstyle='round', facecolor='lightblue', alpha=0)\n",
    "#props = dict()\n",
    "\n",
    "# Place the textbox in the top-left corner inside the plot (adjust x and y as needed)\n",
    "ax.text(0.01, 0.99, textstr, transform=ax.transAxes, fontsize=10,\n",
    "        verticalalignment='top', horizontalalignment='left', bbox=props, family='monospace')\n",
    "\n",
    "# Display the plot\n",
    "plt.tight_layout()\n",
    "#plt.show()\n",
    "if coe:\n",
    "    ax.set_title('Real Coefficients vs Measured')\n",
    "    ax.set_ylabel('Coefficient')\n",
    "    plt.savefig(\"Coefficient\", bbox_inches='tight')\n",
    "else:\n",
    "    ax.set_title('Real Infidelity vs Measured')\n",
    "    ax.set_ylabel('Infidelity')\n",
    "    plt.savefig(\"Infidelity\", bbox_inches='tight')"
   ]
  }
 ],
 "metadata": {
  "kernelspec": {
   "display_name": ".venv",
   "language": "python",
   "name": "python3"
  },
  "language_info": {
   "codemirror_mode": {
    "name": "ipython",
    "version": 3
   },
   "file_extension": ".py",
   "mimetype": "text/x-python",
   "name": "python",
   "nbconvert_exporter": "python",
   "pygments_lexer": "ipython3",
   "version": "3.10.10"
  }
 },
 "nbformat": 4,
 "nbformat_minor": 2
}
