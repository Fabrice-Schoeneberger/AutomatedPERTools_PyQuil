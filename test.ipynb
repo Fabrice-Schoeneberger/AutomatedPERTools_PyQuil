{
 "cells": [
  {
   "cell_type": "code",
   "execution_count": 20,
   "metadata": {},
   "outputs": [
    {
     "ename": "AttributeError",
     "evalue": "'CompilerISA' object has no attribute 'architecture'",
     "output_type": "error",
     "traceback": [
      "\u001b[1;31m---------------------------------------------------------------------------\u001b[0m",
      "\u001b[1;31mAttributeError\u001b[0m                            Traceback (most recent call last)",
      "Cell \u001b[1;32mIn[20], line 45\u001b[0m\n\u001b[0;32m     42\u001b[0m \u001b[38;5;66;03m#backend = Aer.get_backend('qasm_simulator')\u001b[39;00m\n\u001b[0;32m     43\u001b[0m \u001b[38;5;66;03m#(noise_model, twoqubit_error_template, singlequbit_error_template) = get_noise_model()\u001b[39;00m\n\u001b[0;32m     44\u001b[0m noise_model \u001b[38;5;241m=\u001b[39m NoiseModel([CNOT], [\u001b[38;5;241m0.1\u001b[39m,\u001b[38;5;241m0.9\u001b[39m])\n\u001b[1;32m---> 45\u001b[0m counts \u001b[38;5;241m=\u001b[39m \u001b[43mexecutor\u001b[49m\u001b[43m(\u001b[49m\u001b[43m[\u001b[49m\u001b[43mprog\u001b[49m\u001b[43m]\u001b[49m\u001b[43m,\u001b[49m\u001b[43m \u001b[49m\u001b[43mbackend\u001b[49m\u001b[43m,\u001b[49m\u001b[43m \u001b[49m\u001b[38;5;241;43m1024\u001b[39;49m\u001b[43m)\u001b[49m\n\u001b[0;32m     46\u001b[0m \u001b[38;5;28mprint\u001b[39m(counts)\n\u001b[0;32m     47\u001b[0m \u001b[38;5;28mprint\u001b[39m(noise_model)\n",
      "File \u001b[1;32me:\\OneDrive\\Dokumente\\Uni_kram\\Masterarbeit\\pyquil_program\\TrotterExample.py:124\u001b[0m, in \u001b[0;36mexecutor\u001b[1;34m(circuits, backend, shots)\u001b[0m\n\u001b[0;32m    122\u001b[0m counts \u001b[38;5;241m=\u001b[39m []\n\u001b[0;32m    123\u001b[0m \u001b[38;5;28;01mfor\u001b[39;00m circuit \u001b[38;5;129;01min\u001b[39;00m circuits:\n\u001b[1;32m--> 124\u001b[0m     result \u001b[38;5;241m=\u001b[39m backend\u001b[38;5;241m.\u001b[39mrun(\u001b[43mbackend\u001b[49m\u001b[38;5;241;43m.\u001b[39;49m\u001b[43mcompile\u001b[49m\u001b[43m(\u001b[49m\u001b[43mcircuit\u001b[49m\u001b[38;5;241;43m.\u001b[39;49m\u001b[43mwrap_in_numshots_loop\u001b[49m\u001b[43m(\u001b[49m\u001b[43mshots\u001b[49m\u001b[38;5;241;43m=\u001b[39;49m\u001b[43mshots\u001b[49m\u001b[43m)\u001b[49m\u001b[43m)\u001b[49m)\u001b[38;5;241m.\u001b[39mget_register_map()[\u001b[38;5;124m'\u001b[39m\u001b[38;5;124mro\u001b[39m\u001b[38;5;124m'\u001b[39m]\n\u001b[0;32m    125\u001b[0m     counts\u001b[38;5;241m.\u001b[39mappend(take_counts(result))\n\u001b[0;32m    126\u001b[0m \u001b[38;5;28;01mreturn\u001b[39;00m counts\n",
      "File \u001b[1;32me:\\OneDrive\\Dokumente\\Uni_kram\\Masterarbeit\\pyquil_program\\.venv\\lib\\site-packages\\pyquil\\api\\_quantum_computer.py:396\u001b[0m, in \u001b[0;36mQuantumComputer.compile\u001b[1;34m(self, program, to_native_gates, optimize, protoquil)\u001b[0m\n\u001b[0;32m    393\u001b[0m quilc \u001b[38;5;241m=\u001b[39m \u001b[38;5;28mall\u001b[39m(flags)\n\u001b[0;32m    395\u001b[0m \u001b[38;5;28;01mif\u001b[39;00m quilc:\n\u001b[1;32m--> 396\u001b[0m     nq_program \u001b[38;5;241m=\u001b[39m \u001b[38;5;28;43mself\u001b[39;49m\u001b[38;5;241;43m.\u001b[39;49m\u001b[43mcompiler\u001b[49m\u001b[38;5;241;43m.\u001b[39;49m\u001b[43mquil_to_native_quil\u001b[49m\u001b[43m(\u001b[49m\u001b[43mprogram\u001b[49m\u001b[43m,\u001b[49m\u001b[43m \u001b[49m\u001b[43mprotoquil\u001b[49m\u001b[38;5;241;43m=\u001b[39;49m\u001b[43mprotoquil\u001b[49m\u001b[43m)\u001b[49m\n\u001b[0;32m    397\u001b[0m \u001b[38;5;28;01melse\u001b[39;00m:\n\u001b[0;32m    398\u001b[0m     nq_program \u001b[38;5;241m=\u001b[39m program\n",
      "File \u001b[1;32me:\\OneDrive\\Dokumente\\Uni_kram\\Masterarbeit\\pyquil_program\\.venv\\lib\\site-packages\\pyquil\\api\\_abstract_compiler.py:106\u001b[0m, in \u001b[0;36mAbstractCompiler.quil_to_native_quil\u001b[1;34m(self, program, protoquil)\u001b[0m\n\u001b[0;32m    102\u001b[0m \u001b[38;5;28;01mdef\u001b[39;00m \u001b[38;5;21mquil_to_native_quil\u001b[39m(\u001b[38;5;28mself\u001b[39m, program: Program, \u001b[38;5;241m*\u001b[39m, protoquil: Optional[\u001b[38;5;28mbool\u001b[39m] \u001b[38;5;241m=\u001b[39m \u001b[38;5;28;01mNone\u001b[39;00m) \u001b[38;5;241m-\u001b[39m\u001b[38;5;241m>\u001b[39m Program:\n\u001b[0;32m    103\u001b[0m \u001b[38;5;250m    \u001b[39m\u001b[38;5;124;03m\"\"\"\u001b[39;00m\n\u001b[0;32m    104\u001b[0m \u001b[38;5;124;03m    Convert a Quil program into native Quil, which is supported for execution on a QPU.\u001b[39;00m\n\u001b[0;32m    105\u001b[0m \u001b[38;5;124;03m    \"\"\"\u001b[39;00m\n\u001b[1;32m--> 106\u001b[0m     result \u001b[38;5;241m=\u001b[39m \u001b[38;5;28;43mself\u001b[39;49m\u001b[38;5;241;43m.\u001b[39;49m\u001b[43m_compile_with_quilc\u001b[49m\u001b[43m(\u001b[49m\n\u001b[0;32m    107\u001b[0m \u001b[43m        \u001b[49m\u001b[43mprogram\u001b[49m\u001b[38;5;241;43m.\u001b[39;49m\u001b[43mout\u001b[49m\u001b[43m(\u001b[49m\u001b[43mcalibrations\u001b[49m\u001b[38;5;241;43m=\u001b[39;49m\u001b[38;5;28;43;01mFalse\u001b[39;49;00m\u001b[43m)\u001b[49m\u001b[43m,\u001b[49m\n\u001b[0;32m    108\u001b[0m \u001b[43m        \u001b[49m\u001b[43moptions\u001b[49m\u001b[38;5;241;43m=\u001b[39;49m\u001b[43mCompilerOpts\u001b[49m\u001b[43m(\u001b[49m\u001b[43mprotoquil\u001b[49m\u001b[38;5;241;43m=\u001b[39;49m\u001b[43mprotoquil\u001b[49m\u001b[43m,\u001b[49m\u001b[43m \u001b[49m\u001b[43mtimeout\u001b[49m\u001b[38;5;241;43m=\u001b[39;49m\u001b[38;5;28;43mself\u001b[39;49m\u001b[38;5;241;43m.\u001b[39;49m\u001b[43m_compiler_client\u001b[49m\u001b[38;5;241;43m.\u001b[39;49m\u001b[43mtimeout\u001b[49m\u001b[43m)\u001b[49m\u001b[43m,\u001b[49m\n\u001b[0;32m    109\u001b[0m \u001b[43m    \u001b[49m\u001b[43m)\u001b[49m\n\u001b[0;32m    111\u001b[0m     native_program \u001b[38;5;241m=\u001b[39m program\u001b[38;5;241m.\u001b[39mcopy_everything_except_instructions()\n\u001b[0;32m    112\u001b[0m     native_program\u001b[38;5;241m.\u001b[39mnative_quil_metadata \u001b[38;5;241m=\u001b[39m result\u001b[38;5;241m.\u001b[39mnative_quil_metadata\n",
      "File \u001b[1;32me:\\OneDrive\\Dokumente\\Uni_kram\\Masterarbeit\\pyquil_program\\.venv\\lib\\site-packages\\pyquil\\api\\_abstract_compiler.py:121\u001b[0m, in \u001b[0;36mAbstractCompiler._compile_with_quilc\u001b[1;34m(self, input, options)\u001b[0m\n\u001b[0;32m    118\u001b[0m \u001b[38;5;28mself\u001b[39m\u001b[38;5;241m.\u001b[39m_connect()\n\u001b[0;32m    120\u001b[0m \u001b[38;5;66;03m# convert the pyquil ``TargetDevice`` to the qcs_sdk ``TargetDevice``\u001b[39;00m\n\u001b[1;32m--> 121\u001b[0m compiler_isa \u001b[38;5;241m=\u001b[39m \u001b[38;5;28;43mself\u001b[39;49m\u001b[38;5;241;43m.\u001b[39;49m\u001b[43mquantum_processor\u001b[49m\u001b[38;5;241;43m.\u001b[39;49m\u001b[43mto_compiler_isa\u001b[49m\u001b[43m(\u001b[49m\u001b[43m)\u001b[49m\n\u001b[0;32m    122\u001b[0m target_device_json \u001b[38;5;241m=\u001b[39m json\u001b[38;5;241m.\u001b[39mdumps(compiler_isa_to_target_quantum_processor(compiler_isa)\u001b[38;5;241m.\u001b[39masdict())  \u001b[38;5;66;03m# type: ignore\u001b[39;00m\n\u001b[0;32m    123\u001b[0m target_device \u001b[38;5;241m=\u001b[39m TargetDevice\u001b[38;5;241m.\u001b[39mfrom_json(target_device_json)\n",
      "File \u001b[1;32me:\\OneDrive\\Dokumente\\Uni_kram\\Masterarbeit\\pyquil_program\\.venv\\lib\\site-packages\\pyquil\\quantum_processor\\qcs.py:50\u001b[0m, in \u001b[0;36mQCSQuantumProcessor.to_compiler_isa\u001b[1;34m(self)\u001b[0m\n\u001b[0;32m     49\u001b[0m \u001b[38;5;28;01mdef\u001b[39;00m \u001b[38;5;21mto_compiler_isa\u001b[39m(\u001b[38;5;28mself\u001b[39m) \u001b[38;5;241m-\u001b[39m\u001b[38;5;241m>\u001b[39m CompilerISA:\n\u001b[1;32m---> 50\u001b[0m     \u001b[38;5;28;01mreturn\u001b[39;00m \u001b[43mqcs_isa_to_compiler_isa\u001b[49m\u001b[43m(\u001b[49m\u001b[38;5;28;43mself\u001b[39;49m\u001b[38;5;241;43m.\u001b[39;49m\u001b[43m_isa\u001b[49m\u001b[43m)\u001b[49m\n",
      "File \u001b[1;32me:\\OneDrive\\Dokumente\\Uni_kram\\Masterarbeit\\pyquil_program\\.venv\\lib\\site-packages\\pyquil\\quantum_processor\\transformers\\qcs_isa_to_compiler_isa.py:29\u001b[0m, in \u001b[0;36mqcs_isa_to_compiler_isa\u001b[1;34m(isa)\u001b[0m\n\u001b[0;32m     27\u001b[0m \u001b[38;5;28;01mdef\u001b[39;00m \u001b[38;5;21mqcs_isa_to_compiler_isa\u001b[39m(isa: InstructionSetArchitecture) \u001b[38;5;241m-\u001b[39m\u001b[38;5;241m>\u001b[39m CompilerISA:\n\u001b[0;32m     28\u001b[0m     device \u001b[38;5;241m=\u001b[39m CompilerISA()\n\u001b[1;32m---> 29\u001b[0m     \u001b[38;5;28;01mfor\u001b[39;00m node \u001b[38;5;129;01min\u001b[39;00m \u001b[43misa\u001b[49m\u001b[38;5;241;43m.\u001b[39;49m\u001b[43marchitecture\u001b[49m\u001b[38;5;241m.\u001b[39mnodes:\n\u001b[0;32m     30\u001b[0m         add_qubit(device, node\u001b[38;5;241m.\u001b[39mnode_id)\n\u001b[0;32m     32\u001b[0m     \u001b[38;5;28;01mfor\u001b[39;00m edge \u001b[38;5;129;01min\u001b[39;00m isa\u001b[38;5;241m.\u001b[39marchitecture\u001b[38;5;241m.\u001b[39medges:\n",
      "\u001b[1;31mAttributeError\u001b[0m: 'CompilerISA' object has no attribute 'architecture'"
     ]
    }
   ],
   "source": [
    "from TrotterExample import get_noise_model, executor, get_backend\n",
    "from pyquil import Program\n",
    "from pyquil.gates import H, CNOT, Z, MEASURE, S, X, Y, I, RX, RZ, FENCE\n",
    "from pyquil.quilbase import Declare\n",
    "from pyquil.api import local_forest_runtime\n",
    "from pyquil.quantum_processor import QCSQuantumProcessor\n",
    "with local_forest_runtime():\n",
    "\n",
    "    # Here the backend for the simulation is prepared\n",
    "    from pyquil.quantum_processor import NxQuantumProcessor\n",
    "    from pyquil.noise import NoiseModel\n",
    "    from pyquil import get_qc\n",
    "    import networkx as nx\n",
    "    backend = get_qc(\"5q-qvm\") #str(n)+'q-qvm' #args.backend\n",
    "    isa = backend.to_compiler_isa()\n",
    "    backend_qubits = sorted(int(k) for k in isa.qubits.keys())\n",
    "    # By default every qubit on our fake backend is connected with every other qubit. This breaks the algorhythm. So we need to change the topology\n",
    "    # So this line here changes the topology of the fake backend. The condition in the end determines it\n",
    "    edges = [(q1, q2) for q1 in backend_qubits for q2 in backend_qubits if abs(q1-q2) == 1]\n",
    "    # Build the NX graph\n",
    "    topo = nx.from_edgelist(edges)\n",
    "    # You would uncomment the next line if you have disconnected qubits\n",
    "    # topo.add_nodes_from(qubits)\n",
    "    nx_quantum_processor = NxQuantumProcessor(topo)\n",
    "    isa = nx_quantum_processor.to_compiler_isa()\n",
    "    #quantum_processor.noise_model = decoherence_noise_with_asymmetric_ro(quantum_processor.to_compiler_isa())\n",
    "    noise_model = NoiseModel([CNOT], [0.1,0.9])\n",
    "    quantum_processor = QCSQuantumProcessor(\"test\", isa, noise_model)\n",
    "    #quantum_processor.noise_model = noise_model\n",
    "    backend.compiler.quantum_processor = quantum_processor\n",
    "    #print(quantum_processor.qubit_topology())\n",
    "    # Here the backend without noise is prepared for later comparison\n",
    "    #import qiskit.providers.fake_provider as fake_provider # FakeMelbourneV2, FakeCasablancaV2, FakeVigoV2, FakeLagosV2, FakeGuadalupeV2, FakeGuadalupe, FakeGeneva\n",
    "\n",
    "    prog = Program()\n",
    "    prog += Declare(\"ro\", \"BIT\", 5)\n",
    "    prog += CNOT(0,1)\n",
    "    prog += MEASURE(0, (\"ro\", 0))\n",
    "    prog += MEASURE(1, (\"ro\", 1))\n",
    "\n",
    "    #backend = Aer.get_backend('qasm_simulator')\n",
    "    #(noise_model, twoqubit_error_template, singlequbit_error_template) = get_noise_model()\n",
    "    noise_model = NoiseModel([CNOT], [0.1,0.9])\n",
    "    counts = executor([prog], backend, 1024)\n",
    "    print(counts)\n",
    "    print(noise_model)"
   ]
  }
 ],
 "metadata": {
  "kernelspec": {
   "display_name": ".venv",
   "language": "python",
   "name": "python3"
  },
  "language_info": {
   "codemirror_mode": {
    "name": "ipython",
    "version": 3
   },
   "file_extension": ".py",
   "mimetype": "text/x-python",
   "name": "python",
   "nbconvert_exporter": "python",
   "pygments_lexer": "ipython3",
   "version": "3.10.10"
  }
 },
 "nbformat": 4,
 "nbformat_minor": 2
}
